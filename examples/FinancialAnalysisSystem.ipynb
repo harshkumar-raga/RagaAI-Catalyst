{
 "cells": [
  {
   "cell_type": "markdown",
   "metadata": {},
   "source": [
    "# Financial Analysis System with RagaAI Catalyst Integration\n",
    "\n",
    "This Jupyter notebook demonstrates the integration of Catalyst, a powerful tracing and monitoring tool, with a financial analysis system. Catalyst provides seamless tracing capabilities for both function calls and AI model interactions, allowing for comprehensive analysis and debugging of complex systems."
   ]
  },
  {
   "cell_type": "markdown",
   "metadata": {},
   "source": [
    "## Setup and Imports\n",
    "\n",
    "First, let's import the necessary libraries and set up our environment."
   ]
  },
  {
   "cell_type": "code",
   "execution_count": null,
   "metadata": {},
   "outputs": [],
   "source": [
    "# Step 1: Import RagaAI Catalyst components for tracing and monitoring\n",
    "from ragaai_catalyst.tracers import Tracer\n",
    "from ragaai_catalyst import (\n",
    "    RagaAICatalyst,\n",
    "    trace_agent,\n",
    "    trace_llm,\n",
    "    trace_tool,\n",
    "    init_tracing,\n",
    ")\n",
    "from textblob import TextBlob\n",
    "from dotenv import load_dotenv\n",
    "import os\n",
    "from openai import OpenAI\n",
    "import random"
   ]
  },
  {
   "cell_type": "code",
   "execution_count": 2,
   "metadata": {},
   "outputs": [
    {
     "data": {
      "text/plain": [
       "True"
      ]
     },
     "execution_count": 2,
     "metadata": {},
     "output_type": "execute_result"
    }
   ],
   "source": [
    "# Step 2: Load environment variables for RagaAI credentials\n",
    "load_dotenv()"
   ]
  },
  {
   "cell_type": "code",
   "execution_count": 3,
   "metadata": {},
   "outputs": [
    {
     "name": "stdout",
     "output_type": "stream",
     "text": [
      "Token(s) set successfully\n"
     ]
    }
   ],
   "source": [
    "# Step 3: Initialize RagaAI Catalyst with authentication details\n",
    "catalyst = RagaAICatalyst(\n",
    "    access_key=os.getenv(\"RAGAAI_CATALYST_ACCESS_KEY\"),\n",
    "    secret_key=os.getenv(\"RAGAAI_CATALYST_SECRET_KEY\"),\n",
    "    base_url=os.getenv(\"RAGAAI_CATALYST_BASE_URL\"),\n",
    ")"
   ]
  },
  {
   "cell_type": "markdown",
   "metadata": {},
   "source": [
    "## FinancialAnalysisSystem Class\n",
    "\n",
    "Now, let's define our `FinancialAnalysisSystem` class with Catalyst integration."
   ]
  },
  {
   "cell_type": "code",
   "execution_count": 5,
   "metadata": {},
   "outputs": [],
   "source": [
    "# Step 4: Configure tracer for Financial Analysis\n",
    "tracer = Tracer(\n",
    "    project_name=\"tracer\",\n",
    "    dataset_name=\"testing\",\n",
    "    tracer_type=\"anything\",\n",
    "    metadata={\"model\": \"gpt-4o-mini\", \"environment\": \"production\"},\n",
    "    pipeline={\n",
    "        \"llm_model\": \"gpt-4o-mini\",\n",
    "        \"vector_store\": \"faiss\",\n",
    "        \"embed_model\": \"text-embedding-ada-002\",\n",
    "    },\n",
    ")\n",
    "# Step 5: Initialize the tracing system\n",
    "init_tracing(catalyst=catalyst, tracer=tracer)"
   ]
  },
  {
   "cell_type": "code",
   "execution_count": 6,
   "metadata": {},
   "outputs": [],
   "source": [
    "class FinancialAnalysisSystem:\n",
    "    def __init__(self):\n",
    "        self.stock_data = {}\n",
    "        self.news_sentiment = {}\n",
    "        self.economic_indicators = {}\n",
    "\n",
    "    # We can trace the tools using the `@trace_tool` decorator\n",
    "    # Step 6: Trace all the tools using the `@trace_tool` decorator\n",
    "    # Use the `trace_tool` decorator to trace the `fetch_stock_data` method\n",
    "    @trace_tool(name=\"fetch_stock_data\")\n",
    "    def fetch_stock_data(self, symbol):\n",
    "        return {\n",
    "            \"symbol\": symbol,\n",
    "            \"price\": round(random.uniform(50, 500), 2),\n",
    "            \"change\": round(random.uniform(-5, 5), 2),\n",
    "        }\n",
    "\n",
    "    # Use the `trace_tool` decorator to trace the `fetch_news_articles` method\n",
    "    @trace_tool(name=\"fetch_news_articles\")\n",
    "    def fetch_news_articles(self, company):\n",
    "        return [\n",
    "            f\"{company} announces new product line\",\n",
    "            f\"{company} reports quarterly earnings\",\n",
    "            f\"{company} faces regulatory scrutiny\",\n",
    "        ]\n",
    "\n",
    "    # Tracing the `analyze_sentiment` method using the `trace_tool` decorator\n",
    "    @trace_tool(name=\"analyze_sentiment\")\n",
    "    def analyze_sentiment(self, text):\n",
    "        return TextBlob(text).sentiment.polarity\n",
    "\n",
    "    # Tracing the `fetch_economic_indicators` method using the `trace_tool` decorator\n",
    "    @trace_tool(name=\"fetch_economic_indicators\")\n",
    "    def fetch_economic_indicators(self):\n",
    "        return {\n",
    "            \"gdp_growth\": round(random.uniform(-2, 5), 2),\n",
    "            \"unemployment_rate\": round(random.uniform(3, 10), 2),\n",
    "            \"inflation_rate\": round(random.uniform(0, 5), 2),\n",
    "        }\n",
    "\n",
    "    # We can trace the LLMs using the `@trace_llm` decorator\n",
    "    # Step 7: Trace all the LLMs using the `@trace_llm` decorator\n",
    "    # Tracing the `analyze_market_conditions` method using the `trace_llm` decorator\n",
    "    @trace_llm(name=\"analyze_market_conditions\")\n",
    "    def analyze_market_conditions(self, stock_data, sentiment, economic_indicators):\n",
    "        prompt = f\"\"\"\n",
    "        Analyze the following market conditions and provide a brief market outlook:\n",
    "        Stock: {stock_data[\"symbol\"]} at ${stock_data[\"price\"]} (change: {stock_data[\"change\"]}%)\n",
    "        News Sentiment: {sentiment}\n",
    "        Economic Indicators:\n",
    "        - GDP Growth: {economic_indicators[\"gdp_growth\"]}%\n",
    "        - Unemployment Rate: {economic_indicators[\"unemployment_rate\"]}%\n",
    "        - Inflation Rate: {economic_indicators[\"inflation_rate\"]}%\n",
    "        \"\"\"\n",
    "        client = OpenAI(api_key=os.environ[\"OPENAI_API_KEY\"])\n",
    "        response = client.chat.completions.create(\n",
    "            model=\"gpt-4-0125-preview\",\n",
    "            messages=[{\"role\": \"user\", \"content\": prompt}],\n",
    "            max_tokens=150,\n",
    "        )\n",
    "        return response.choices[0].message.content.strip()\n",
    "\n",
    "    # Tracing the `generate_investment_recommendation` method using the `trace_llm` decorator\n",
    "    @trace_llm(name=\"generate_investment_recommendation\")\n",
    "    def generate_investment_recommendation(self, market_outlook, risk_tolerance):\n",
    "        prompt = f\"\"\"\n",
    "        Based on the following market outlook and investor risk tolerance,\n",
    "        provide a specific investment recommendation:\n",
    "        Market Outlook: {market_outlook}\n",
    "        Investor Risk Tolerance: {risk_tolerance}\n",
    "        \"\"\"\n",
    "        client = OpenAI(api_key=os.environ[\"OPENAI_API_KEY\"])\n",
    "        response = client.chat.completions.create(\n",
    "            model=\"gpt-4-0125-preview\",\n",
    "            messages=[{\"role\": \"user\", \"content\": prompt}],\n",
    "            max_tokens=200,\n",
    "        )\n",
    "        return response.choices[0].message.content.strip()\n",
    "\n",
    "    # We can trace the agents using the `@trace_agent` decorator\n",
    "    # Step 8: Trace all the agents using the `@trace_agent` decorator\n",
    "    # Tracing the `financial_advisor_agent` agent using the `trace_agent` decorator\n",
    "    @trace_agent(name=\"FinancialAdvisorAgent\")\n",
    "    def financial_advisor_agent(self, stock_symbol, risk_tolerance):\n",
    "        self.stock_data = self.fetch_stock_data(stock_symbol)\n",
    "        news_articles = self.fetch_news_articles(stock_symbol)\n",
    "        sentiment_scores = [\n",
    "            self.analyze_sentiment(article) for article in news_articles\n",
    "        ]\n",
    "        self.news_sentiment = sum(sentiment_scores) / len(sentiment_scores)\n",
    "        self.economic_indicators = self.fetch_economic_indicators()\n",
    "        market_outlook = self.analyze_market_conditions(\n",
    "            self.stock_data, self.news_sentiment, self.economic_indicators\n",
    "        )\n",
    "        recommendation = self.generate_investment_recommendation(\n",
    "            market_outlook, risk_tolerance\n",
    "        )\n",
    "        return recommendation\n",
    "\n",
    "    def run_analysis(self, stock_symbol, risk_tolerance):\n",
    "        recommendation = self.financial_advisor_agent(stock_symbol, risk_tolerance)\n",
    "        print(f\"\\nAnalysis for {stock_symbol}:\")\n",
    "        print(f\"Stock Data: {self.stock_data}\")\n",
    "        print(f\"News Sentiment: {self.news_sentiment}\")\n",
    "        print(f\"Economic Indicators: {self.economic_indicators}\")\n",
    "        print(f\"\\nInvestment Recommendation:\\n{recommendation}\")\n",
    "        if \"buy\" in recommendation.lower():\n",
    "            self.execute_buy_order(stock_symbol)\n",
    "        elif \"sell\" in recommendation.lower():\n",
    "            self.execute_sell_order(stock_symbol)\n",
    "        else:\n",
    "            print(\"No action taken based on the current recommendation.\")\n",
    "\n",
    "    @trace_tool(name=\"execute_buy_order\")\n",
    "    def execute_buy_order(self, symbol):\n",
    "        print(f\"Executing buy order for {symbol}\")\n",
    "\n",
    "    @trace_tool(name=\"execute_sell_order\")\n",
    "    def execute_sell_order(self, symbol):\n",
    "        print(f\"Executing sell order for {symbol}\")"
   ]
  },
  {
   "cell_type": "markdown",
   "metadata": {},
   "source": [
    "## Running the Analysis\n",
    "\n",
    "Now let's create an instance of our `FinancialAnalysisSystem` and run an analysis."
   ]
  },
  {
   "cell_type": "code",
   "execution_count": null,
   "metadata": {},
   "outputs": [
    {
     "name": "stderr",
     "output_type": "stream",
     "text": [
      "INFO:httpx:HTTP Request: POST https://api.openai.com/v1/chat/completions \"HTTP/1.1 200 OK\"\n",
      "INFO:httpx:HTTP Request: POST https://api.openai.com/v1/chat/completions \"HTTP/1.1 200 OK\"\n",
      "INFO:ragaai_catalyst.tracers.agentic_tracing.utils.zip_list_of_unique_files: Zip file created successfully.\n",
      "INFO:ragaai_catalyst.tracers.agentic_tracing.tracers.base: Traces saved successfully.\n"
     ]
    },
    {
     "name": "stdout",
     "output_type": "stream",
     "text": [
      "\n",
      "Analysis for AAPL:\n",
      "Stock Data: {'symbol': 'AAPL', 'price': 458.0, 'change': 2.91}\n",
      "News Sentiment: 0.04545454545454545\n",
      "Economic Indicators: {'gdp_growth': 1.85, 'unemployment_rate': 6.85, 'inflation_rate': 0.06}\n",
      "\n",
      "Investment Recommendation:\n",
      "Based on the provided market outlook and the investor's moderate risk tolerance, I would recommend considering a balanced approach to investing in Apple Inc. (AAPL) stock. Here's my reasoning and recommendation:\n",
      "\n",
      "### Rationale:\n",
      "\n",
      "1. **Stock Performance**: Apple has recently shown a positive increase of 2.91% in its stock price, which can be considered a good sign of its current market performance and strength. This uptick could signal a healthy financial outlook or a response to favorable news about the company, indicating its potential for continued growth.\n",
      "\n",
      "2. **News Sentiment**: The news sentiment score of 0.04545454545454545, although marginally positive, is quite close to neutral. This suggests that while there might be more positive news than negative, the news flow is not overwhelmingly positive. It indicates a lack of significant market-moving news, which might appeal to investors with a moderate risk tolerance, as it suggests a level of stability without extreme volatility based on news sentiment.\n",
      "\n",
      "###\n",
      "No action taken based on the current recommendation.\n",
      "Uploading agentic traces...\n",
      "Uploading code...\n",
      "Dataset trace code inserted successfully\n"
     ]
    }
   ],
   "source": [
    "# Step 9: Run the financial analysis system with tracer\n",
    "with tracer:\n",
    "    # Create an instance of FinancialAnalysisSystem\n",
    "    analysis_system = FinancialAnalysisSystem()\n",
    "    # Run an analysis for Apple stock with moderate risk tolerance\n",
    "    analysis_system.run_analysis(\"AAPL\", \"moderate\")"
   ]
  }
 ],
 "metadata": {
  "kernelspec": {
   "display_name": "exam",
   "language": "python",
   "name": "python3"
  },
  "language_info": {
   "codemirror_mode": {
    "name": "ipython",
    "version": 3
   },
   "file_extension": ".py",
   "mimetype": "text/x-python",
   "name": "python",
   "nbconvert_exporter": "python",
   "pygments_lexer": "ipython3",
   "version": "3.11.11"
  }
 },
 "nbformat": 4,
 "nbformat_minor": 2
}
