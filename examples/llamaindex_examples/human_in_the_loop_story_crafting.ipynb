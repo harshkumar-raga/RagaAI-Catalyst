{
 "cells": [
  {
   "cell_type": "markdown",
   "id": "b4a4fc96-58a8-4b0b-a4fb-077ef16b59e2",
   "metadata": {},
   "source": [
    "# Choose Your Own Adventure Workflow (Human In The Loop)"
   ]
  },
  {
   "cell_type": "code",
   "execution_count": 1,
   "id": "ba11ebc6",
   "metadata": {},
   "outputs": [
    {
     "data": {
      "text/plain": [
       "True"
      ]
     },
     "execution_count": 1,
     "metadata": {},
     "output_type": "execute_result"
    }
   ],
   "source": [
    "from dotenv import load_dotenv\n",
    "load_dotenv()"
   ]
  },
  {
   "cell_type": "markdown",
   "id": "aa4e84d4",
   "metadata": {},
   "source": [
    "### Import RagaAI Catalyst components for tracing"
   ]
  },
  {
   "cell_type": "code",
   "execution_count": 2,
   "id": "a6090b7c",
   "metadata": {},
   "outputs": [
    {
     "name": "stderr",
     "output_type": "stream",
     "text": [
      "INFO:httpx:HTTP Request: GET https://raw.githubusercontent.com/BerriAI/litellm/main/model_prices_and_context_window.json \"HTTP/1.1 200 OK\"\n"
     ]
    },
    {
     "name": "stdout",
     "output_type": "stream",
     "text": [
      "Token(s) set successfully\n"
     ]
    }
   ],
   "source": [
    "from ragaai_catalyst.tracers import Tracer\n",
    "from ragaai_catalyst import RagaAICatalyst, init_tracing\n",
    "import os\n",
    "\n",
    "catalyst = RagaAICatalyst(\n",
    "    access_key=os.getenv(\"RAGAAI_CATALYST_ACCESS_KEY\"),\n",
    "    secret_key=os.getenv(\"RAGAAI_CATALYST_SECRET_KEY\"),\n",
    "    base_url=os.getenv(\"RAGAAI_CATALYST_BASE_URL\"),\n",
    ")\n",
    "\n",
    "# Initialize tracer\n",
    "tracer = Tracer(\n",
    "    project_name=\"llamaindex_tracing_examples\",\n",
    "    dataset_name=\"human_in_the_loop\",\n",
    "    tracer_type=\"Agentic\",\n",
    ")\n",
    "\n",
    "init_tracing(catalyst=catalyst, tracer=tracer)"
   ]
  },
  {
   "cell_type": "code",
   "execution_count": 3,
   "id": "e389bf9f-3048-4372-b967-9aa909990eef",
   "metadata": {},
   "outputs": [],
   "source": [
    "from typing import Any, List\n",
    "\n",
    "from llama_index.llms.openai import OpenAI\n",
    "from llama_index.core.bridge.pydantic import BaseModel, Field\n",
    "from llama_index.core.prompts import PromptTemplate"
   ]
  },
  {
   "cell_type": "code",
   "execution_count": 4,
   "id": "d42111a0-cb06-47f1-af60-e4e4628e8c16",
   "metadata": {},
   "outputs": [],
   "source": [
    "class Segment(BaseModel):\n",
    "    \"\"\"Data model for generating segments of a story.\"\"\"\n",
    "\n",
    "    plot: str = Field(\n",
    "        description=\"The plot of the adventure for the current segment. The plot should be no longer than 3 sentences.\"\n",
    "    )\n",
    "    actions: List[str] = Field(\n",
    "        default=[],\n",
    "        description=\"The list of actions the protaganist can take that will shape the plot and actions of the next segment.\",\n",
    "    )"
   ]
  },
  {
   "cell_type": "code",
   "execution_count": 5,
   "id": "6826965f-58eb-4027-a431-069734ed671f",
   "metadata": {},
   "outputs": [],
   "source": [
    "SEGMENT_GENERATION_TEMPLATE = \"\"\"\n",
    "You are working with a human to create a story in the style of choose your own adventure.\n",
    "\n",
    "The human is playing the role of the protaganist in the story which you are tasked to\n",
    "help write. To create the story, we do it in steps, where each step produces a BLOCK.\n",
    "Each BLOCK consists of a PLOT, a set of ACTIONS that the protaganist can take, and the\n",
    "chosen ACTION. \n",
    "\n",
    "Below we attach the history of the adventure so far.\n",
    "\n",
    "PREVIOUS BLOCKS:\n",
    "---\n",
    "{running_story}\n",
    "\n",
    "Continue the story by generating the next block's PLOT and set of ACTIONs. If there are\n",
    "no previous BLOCKs, start an interesting brand new story. Give the protaganist a name and an\n",
    "interesting challenge to solve.\n",
    "\n",
    "\n",
    "Use the provided data model to structure your output.\n",
    "\"\"\""
   ]
  },
  {
   "cell_type": "code",
   "execution_count": 6,
   "id": "758b5b54-c342-4fd0-b1b4-a58a54707a86",
   "metadata": {},
   "outputs": [],
   "source": [
    "FINAL_SEGMENT_GENERATION_TEMPLATE = \"\"\"\n",
    "You are working with a human to create a story in the style of choose your own adventure.\n",
    "\n",
    "The human is playing the role of the protaganist in the story which you are tasked to\n",
    "help write. To create the story, we do it in steps, where each step produces a BLOCK.\n",
    "Each BLOCK consists of a PLOT, a set of ACTIONS that the protaganist can take, and the\n",
    "chosen ACTION. Below we attach the history of the adventure so far.\n",
    "\n",
    "PREVIOUS BLOCKS:\n",
    "---\n",
    "{running_story}\n",
    "\n",
    "The story is now coming to an end. With the previous blocks, wrap up the story with a\n",
    "closing PLOT. Since it is a closing plot, DO NOT GENERATE a new set of actions.\n",
    "\n",
    "Use the provided data model to structure your output.\n",
    "\"\"\""
   ]
  },
  {
   "cell_type": "code",
   "execution_count": 7,
   "id": "19c4ed39-a2af-4c89-9dba-ddd49aaa0cd0",
   "metadata": {},
   "outputs": [],
   "source": [
    "import uuid\n",
    "from typing import Optional\n",
    "\n",
    "BLOCK_TEMPLATE = \"\"\"\n",
    "BLOCK\n",
    "===\n",
    "PLOT: {plot}\n",
    "ACTIONS: {actions}\n",
    "CHOICE: {choice}\n",
    "\"\"\"\n",
    "\n",
    "\n",
    "class Block(BaseModel):\n",
    "    id_: str = Field(default_factory=lambda: str(uuid.uuid4()))\n",
    "    segment: Segment\n",
    "    choice: Optional[str] = None\n",
    "    block_template: str = BLOCK_TEMPLATE\n",
    "\n",
    "    def __str__(self):\n",
    "        return self.block_template.format(\n",
    "            plot=self.segment.plot,\n",
    "            actions=\", \".join(self.segment.actions),\n",
    "            choice=self.choice or \"\",\n",
    "        )"
   ]
  },
  {
   "cell_type": "code",
   "execution_count": 8,
   "id": "cf4d468a-f4de-478c-9f7b-8931d4dad4ef",
   "metadata": {},
   "outputs": [],
   "source": [
    "from llama_index.core.workflow import (\n",
    "    Context,\n",
    "    Event,\n",
    "    StartEvent,\n",
    "    StopEvent,\n",
    "    Workflow,\n",
    "    step,\n",
    ")"
   ]
  },
  {
   "cell_type": "code",
   "execution_count": 9,
   "id": "abed042e-afb7-4e29-9d23-1374d3583c30",
   "metadata": {},
   "outputs": [],
   "source": [
    "class NewBlockEvent(Event):\n",
    "    block: Block\n",
    "\n",
    "\n",
    "class HumanChoiceEvent(Event):\n",
    "    block_id: str"
   ]
  },
  {
   "cell_type": "code",
   "execution_count": 10,
   "id": "83ed549a-36ec-446c-963f-d0ced185622f",
   "metadata": {},
   "outputs": [],
   "source": [
    "class ChooseYourOwnAdventureWorkflow(Workflow):\n",
    "    def __init__(self, max_steps: int = 3, **kwargs):\n",
    "        super().__init__(**kwargs)\n",
    "        self.llm = OpenAI(\"gpt-4o\")\n",
    "        self.max_steps = max_steps\n",
    "\n",
    "    @step\n",
    "    async def create_segment(\n",
    "        self, ctx: Context, ev: StartEvent | HumanChoiceEvent\n",
    "    ) -> NewBlockEvent | StopEvent:\n",
    "        blocks = await ctx.get(\"blocks\", [])\n",
    "        running_story = \"\\n\".join(str(b) for b in blocks)\n",
    "\n",
    "        if len(blocks) < self.max_steps:\n",
    "            new_segment = self.llm.structured_predict(\n",
    "                Segment,\n",
    "                PromptTemplate(SEGMENT_GENERATION_TEMPLATE),\n",
    "                running_story=running_story,\n",
    "            )\n",
    "            new_block = Block(segment=new_segment)\n",
    "            blocks.append(new_block)\n",
    "            await ctx.set(\"blocks\", blocks)\n",
    "            return NewBlockEvent(block=new_block)\n",
    "        else:\n",
    "            final_segment = self.llm.structured_predict(\n",
    "                Segment,\n",
    "                PromptTemplate(FINAL_SEGMENT_GENERATION_TEMPLATE),\n",
    "                running_story=running_story,\n",
    "            )\n",
    "            final_block = Block(segment=final_segment)\n",
    "            blocks.append(final_block)\n",
    "            return StopEvent(result=blocks)\n",
    "\n",
    "    @step\n",
    "    async def prompt_human(\n",
    "        self, ctx: Context, ev: NewBlockEvent\n",
    "    ) -> HumanChoiceEvent:\n",
    "        block = ev.block\n",
    "\n",
    "        # get human input\n",
    "        human_prompt = f\"\\n===\\n{ev.block.segment.plot}\\n\\n\"\n",
    "        human_prompt += \"Choose your adventure:\\n\\n\"\n",
    "        human_prompt += \"\\n\".join(ev.block.segment.actions)\n",
    "        human_prompt += \"\\n\\n\"\n",
    "        human_input = input(human_prompt)\n",
    "\n",
    "        blocks = await ctx.get(\"blocks\")\n",
    "        block.choice = human_input\n",
    "        blocks[-1] = block\n",
    "        await ctx.set(\"block\", blocks)\n",
    "\n",
    "        return HumanChoiceEvent(block_id=ev.block.id_)"
   ]
  },
  {
   "cell_type": "code",
   "execution_count": 11,
   "id": "260e3f7b-a490-4708-b589-4e829a1e2580",
   "metadata": {},
   "outputs": [],
   "source": [
    "import nest_asyncio\n",
    "\n",
    "nest_asyncio.apply()"
   ]
  },
  {
   "cell_type": "code",
   "execution_count": 12,
   "id": "07fcdf83-b2ee-43ab-b2df-61931aca2888",
   "metadata": {},
   "outputs": [],
   "source": [
    "w = ChooseYourOwnAdventureWorkflow(timeout=None)"
   ]
  },
  {
   "cell_type": "markdown",
   "id": "67e9ae9b",
   "metadata": {},
   "source": [
    "### Run the workflow with RagaAI Catalyst"
   ]
  },
  {
   "cell_type": "code",
   "execution_count": 13,
   "id": "ba835938-d5cf-489f-b27a-0a0f76119cee",
   "metadata": {},
   "outputs": [
    {
     "name": "stdout",
     "output_type": "stream",
     "text": [
      "Warning: Failed to patch Anthropic methods: ChatAnthropic.invoke\n"
     ]
    },
    {
     "name": "stderr",
     "output_type": "stream",
     "text": [
      "INFO:httpx:HTTP Request: POST https://api.openai.com/v1/chat/completions \"HTTP/1.1 200 OK\"\n"
     ]
    },
    {
     "name": "stdout",
     "output_type": "stream",
     "text": [
      "\n",
      "===\n",
      "In the mystical land of Eldoria, a young adventurer named Arin stumbles upon an ancient map hidden within the pages of an old tome in the village library. The map hints at the location of the legendary Crystal of Eternity, said to grant the power to control time itself. Intrigued and eager for adventure, Arin decides to embark on a quest to find the crystal, but first, they must gather clues from the mysterious forest of Whispering Pines.\n",
      "\n",
      "Choose your adventure:\n",
      "\n",
      "Explore the Whispering Pines to find clues about the crystal's location.\n",
      "Visit the village elder to learn more about the legend of the Crystal of Eternity.\n",
      "Seek out a companion to join the quest for the crystal.\n",
      "\n"
     ]
    },
    {
     "name": "stderr",
     "output_type": "stream",
     "text": [
      "INFO:httpx:HTTP Request: POST https://api.openai.com/v1/chat/completions \"HTTP/1.1 200 OK\"\n"
     ]
    },
    {
     "name": "stdout",
     "output_type": "stream",
     "text": [
      "\n",
      "===\n",
      "Arin decides to explore the Whispering Pines, a forest known for its ethereal beauty and enigmatic secrets. As Arin ventures deeper into the forest, they encounter a peculiar old tree with carvings that seem to tell a story of the crystal's past. Suddenly, a soft whispering voice fills the air, offering guidance but also warning of the dangers that lie ahead.\n",
      "\n",
      "Choose your adventure:\n",
      "\n",
      "Examine the carvings on the tree to decipher their meaning.\n",
      "Follow the whispering voice deeper into the forest.\n",
      "Set up camp and rest before continuing the journey.\n",
      "\n"
     ]
    },
    {
     "name": "stderr",
     "output_type": "stream",
     "text": [
      "INFO:httpx:HTTP Request: POST https://api.openai.com/v1/chat/completions \"HTTP/1.1 200 OK\"\n"
     ]
    },
    {
     "name": "stdout",
     "output_type": "stream",
     "text": [
      "\n",
      "===\n",
      "Arin decides to examine the carvings on the tree, hoping to uncover more about the Crystal of Eternity. As they trace their fingers over the intricate symbols, a hidden compartment opens, revealing a small, glowing amulet. The amulet pulses with a gentle warmth, and Arin feels a strange connection to it, as if it holds a piece of the crystal's power.\n",
      "\n",
      "Choose your adventure:\n",
      "\n",
      "Take the amulet and continue exploring the forest.\n",
      "Leave the amulet and follow the whispering voice deeper into the forest.\n",
      "Set up camp and study the amulet's properties before proceeding.\n",
      "\n"
     ]
    },
    {
     "name": "stderr",
     "output_type": "stream",
     "text": [
      "INFO:httpx:HTTP Request: POST https://api.openai.com/v1/chat/completions \"HTTP/1.1 200 OK\"\n",
      "INFO:ragaai_catalyst.tracers.agentic_tracing.utils.zip_list_of_unique_files: Zip file created successfully.\n",
      "INFO:ragaai_catalyst.tracers.agentic_tracing.tracers.base: Traces saved successfully.\n"
     ]
    },
    {
     "name": "stdout",
     "output_type": "stream",
     "text": [
      "Uploading agentic traces...\n",
      "Code already exists\n"
     ]
    }
   ],
   "source": [
    "with tracer:\n",
    "    result = await w.run()"
   ]
  },
  {
   "cell_type": "code",
   "execution_count": 14,
   "id": "1e15aa0c-78da-4ff6-9519-d0b134bdd546",
   "metadata": {},
   "outputs": [
    {
     "name": "stdout",
     "output_type": "stream",
     "text": [
      "In the mystical land of Eldoria, a young adventurer named Arin stumbles upon an ancient map hidden within the pages of an old tome in the village library. The map hints at the location of the legendary Crystal of Eternity, said to grant the power to control time itself. Intrigued and eager for adventure, Arin decides to embark on a quest to find the crystal, but first, they must gather clues from the mysterious forest of Whispering Pines.\n",
      "\n",
      "Arin decides to explore the Whispering Pines, a forest known for its ethereal beauty and enigmatic secrets. As Arin ventures deeper into the forest, they encounter a peculiar old tree with carvings that seem to tell a story of the crystal's past. Suddenly, a soft whispering voice fills the air, offering guidance but also warning of the dangers that lie ahead.\n",
      "\n",
      "Arin decides to examine the carvings on the tree, hoping to uncover more about the Crystal of Eternity. As they trace their fingers over the intricate symbols, a hidden compartment opens, revealing a small, glowing amulet. The amulet pulses with a gentle warmth, and Arin feels a strange connection to it, as if it holds a piece of the crystal's power.\n",
      "\n",
      "Arin decides to take the amulet and continue exploring the forest. As they venture further, the amulet begins to glow brighter, guiding them to a hidden grove where the Crystal of Eternity rests upon a pedestal. Realizing the significance of their discovery, Arin carefully places the amulet next to the crystal, causing a brilliant light to envelop the grove. In that moment, Arin understands that the true power of the crystal lies not in controlling time, but in understanding and cherishing the present. With newfound wisdom, Arin returns to the village, ready to share their tale and the lessons learned from their adventure.\n"
     ]
    }
   ],
   "source": [
    "final_story = \"\\n\\n\".join(b.segment.plot for b in result)\n",
    "print(final_story)"
   ]
  }
 ],
 "metadata": {
  "kernelspec": {
   "display_name": "exam",
   "language": "python",
   "name": "python3"
  },
  "language_info": {
   "codemirror_mode": {
    "name": "ipython",
    "version": 3
   },
   "file_extension": ".py",
   "mimetype": "text/x-python",
   "name": "python",
   "nbconvert_exporter": "python",
   "pygments_lexer": "ipython3",
   "version": "3.11.11"
  }
 },
 "nbformat": 4,
 "nbformat_minor": 5
}
