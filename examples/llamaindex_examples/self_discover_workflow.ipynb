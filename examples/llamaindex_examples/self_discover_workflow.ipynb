{
 "cells": [
  {
   "cell_type": "markdown",
   "metadata": {},
   "source": [
    "# Self-Discover Workflow"
   ]
  },
  {
   "cell_type": "code",
   "execution_count": null,
   "metadata": {},
   "outputs": [
    {
     "data": {
      "text/plain": [
       "True"
      ]
     },
     "execution_count": 1,
     "metadata": {},
     "output_type": "execute_result"
    }
   ],
   "source": [
    "from dotenv import load_dotenv\n",
    "load_dotenv()"
   ]
  },
  {
   "cell_type": "markdown",
   "metadata": {},
   "source": [
    "### Import RagaAI Catalyst components for tracing"
   ]
  },
  {
   "cell_type": "code",
   "execution_count": 2,
   "metadata": {},
   "outputs": [
    {
     "name": "stderr",
     "output_type": "stream",
     "text": [
      "INFO:httpx:HTTP Request: GET https://raw.githubusercontent.com/BerriAI/litellm/main/model_prices_and_context_window.json \"HTTP/1.1 200 OK\"\n"
     ]
    },
    {
     "name": "stdout",
     "output_type": "stream",
     "text": [
      "Token(s) set successfully\n"
     ]
    }
   ],
   "source": [
    "from ragaai_catalyst.tracers import Tracer\n",
    "from ragaai_catalyst import RagaAICatalyst, init_tracing\n",
    "import os\n",
    "\n",
    "catalyst = RagaAICatalyst(\n",
    "    access_key=os.getenv(\"RAGAAI_CATALYST_ACCESS_KEY\"),\n",
    "    secret_key=os.getenv(\"RAGAAI_CATALYST_SECRET_KEY\"),\n",
    "    base_url=os.getenv(\"RAGAAI_CATALYST_BASE_URL\"),\n",
    ")\n",
    "\n",
    "# Initialize tracer\n",
    "tracer = Tracer(\n",
    "    project_name=\"llama_index_testing\",\n",
    "    dataset_name=\"self_discover\",\n",
    "    tracer_type=\"llamaindex\",\n",
    ")\n",
    "\n",
    "init_tracing(catalyst=catalyst, tracer=tracer)"
   ]
  },
  {
   "cell_type": "code",
   "execution_count": 3,
   "metadata": {},
   "outputs": [],
   "source": [
    "from llama_index.core.prompts import PromptTemplate\n",
    "\n",
    "_REASONING_MODULES = [\n",
    "    \"1. How could I devise an experiment to help solve that problem?\",\n",
    "    \"2. Make a list of ideas for solving this problem, and apply them one by one to the problem to see if any progress can be made.\",\n",
    "    \"3. How could I measure progress on this problem?\",\n",
    "    \"4. How can I simplify the problem so that it is easier to solve?\",\n",
    "    \"5. What are the key assumptions underlying this problem?\",\n",
    "    \"6. What are the potential risks and drawbacks of each solution?\",\n",
    "    \"7. What are the alternative perspectives or viewpoints on this problem?\",\n",
    "    \"8. What are the long-term implications of this problem and its solutions?\",\n",
    "    \"9. How can I break down this problem into smaller, more manageable parts?\",\n",
    "    \"10. Critical Thinking: This style involves analyzing the problem from different perspectives, questioning assumptions, and evaluating the evidence or information available. It focuses on logical reasoning, evidence-based decision-making, and identifying potential biases or flaws in thinking.\",\n",
    "    \"11. Try creative thinking, generate innovative and out-of-the-box ideas to solve the problem. Explore unconventional solutions, thinking beyond traditional boundaries, and encouraging imagination and originality.\",\n",
    "    \"12. Seek input and collaboration from others to solve the problem. Emphasize teamwork, open communication, and leveraging the diverse perspectives and expertise of a group to come up with effective solutions.\",\n",
    "    \"13. Use systems thinking: Consider the problem as part of a larger system and understanding the interconnectedness of various elements. Focuses on identifying the underlying causes, feedback loops, and interdependencies that influence the problem, and developing holistic solutions that address the system as a whole.\",\n",
    "    \"14. Use Risk Analysis: Evaluate potential risks, uncertainties, and tradeoffs associated with different solutions or approaches to a problem. Emphasize assessing the potential consequences and likelihood of success or failure, and making informed decisions based on a balanced analysis of risks and benefits.\",\n",
    "    \"15. Use Reflective Thinking: Step back from the problem, take the time for introspection and self-reflection. Examine personal biases, assumptions, and mental models that may influence problem-solving, and being open to learning from past experiences to improve future approaches.\",\n",
    "    \"16. What is the core issue or problem that needs to be addressed?\",\n",
    "    \"17. What are the underlying causes or factors contributing to the problem?\",\n",
    "    \"18. Are there any potential solutions or strategies that have been tried before? If yes, what were the outcomes and lessons learned?\",\n",
    "    \"19. What are the potential obstacles or challenges that might arise in solving this problem?\",\n",
    "    \"20. Are there any relevant data or information that can provide insights into the problem? If yes, what data sources are available, and how can they be analyzed?\",\n",
    "    \"21. Are there any stakeholders or individuals who are directly affected by the problem? What are their perspectives and needs?\",\n",
    "    \"22. What resources (financial, human, technological, etc.) are needed to tackle the problem effectively?\",\n",
    "    \"23. How can progress or success in solving the problem be measured or evaluated?\",\n",
    "    \"24. What indicators or metrics can be used?\",\n",
    "    \"25. Is the problem a technical or practical one that requires a specific expertise or skill set? Or is it more of a conceptual or theoretical problem?\",\n",
    "    \"26. Does the problem involve a physical constraint, such as limited resources, infrastructure, or space?\",\n",
    "    \"27. Is the problem related to human behavior, such as a social, cultural, or psychological issue?\",\n",
    "    \"28. Does the problem involve decision-making or planning, where choices need to be made under uncertainty or with competing objectives?\",\n",
    "    \"29. Is the problem an analytical one that requires data analysis, modeling, or optimization techniques?\",\n",
    "    \"30. Is the problem a design challenge that requires creative solutions and innovation?\",\n",
    "    \"31. Does the problem require addressing systemic or structural issues rather than just individual instances?\",\n",
    "    \"32. Is the problem time-sensitive or urgent, requiring immediate attention and action?\",\n",
    "    \"33. What kinds of solution typically are produced for this kind of problem specification?\",\n",
    "    \"34. Given the problem specification and the current best solution, have a guess about other possible solutions.\"\n",
    "    \"35. Let’s imagine the current best solution is totally wrong, what other ways are there to think about the problem specification?\"\n",
    "    \"36. What is the best way to modify this current best solution, given what you know about these kinds of problem specification?\"\n",
    "    \"37. Ignoring the current best solution, create an entirely new solution to the problem.\"\n",
    "    \"38. Let’s think step by step .\"\n",
    "    \"39. Let’s make a step by step plan and implement it with good notation and explanation.\",\n",
    "]\n",
    "\n",
    "_REASONING_MODULES = \"\\n\".join(_REASONING_MODULES)\n",
    "\n",
    "SELECT_PRMOPT_TEMPLATE = PromptTemplate(\n",
    "    \"Given the task: {task}, which of the following reasoning modules are relevant? Do not elaborate on why.\\n\\n {reasoning_modules}\"\n",
    ")\n",
    "\n",
    "ADAPT_PROMPT_TEMPLATE = PromptTemplate(\n",
    "    \"Without working out the full solution, adapt the following reasoning modules to be specific to our task:\\n{selected_modules}\\n\\nOur task:\\n{task}\"\n",
    ")\n",
    "\n",
    "IMPLEMENT_PROMPT_TEMPLATE = PromptTemplate(\n",
    "    \"Without working out the full solution, create an actionable reasoning structure for the task using these adapted reasoning modules:\\n{adapted_modules}\\n\\nTask Description:\\n{task}\"\n",
    ")\n",
    "\n",
    "REASONING_PROMPT_TEMPLATE = PromptTemplate(\n",
    "    \"Using the following reasoning structure: {reasoning_structure}\\n\\nSolve this task, providing your final answer: {task}\"\n",
    ")"
   ]
  },
  {
   "cell_type": "code",
   "execution_count": 4,
   "metadata": {},
   "outputs": [],
   "source": [
    "from llama_index.core.workflow import Event\n",
    "\n",
    "\n",
    "class GetModulesEvent(Event):\n",
    "    \"\"\"Event to get modules.\"\"\"\n",
    "\n",
    "    task: str\n",
    "    modules: str\n",
    "\n",
    "\n",
    "class RefineModulesEvent(Event):\n",
    "    \"\"\"Event to refine modules.\"\"\"\n",
    "\n",
    "    task: str\n",
    "    refined_modules: str\n",
    "\n",
    "\n",
    "class ReasoningStructureEvent(Event):\n",
    "    \"\"\"Event to create reasoning structure.\"\"\"\n",
    "\n",
    "    task: str\n",
    "    reasoning_structure: str"
   ]
  },
  {
   "cell_type": "code",
   "execution_count": 5,
   "metadata": {},
   "outputs": [],
   "source": [
    "from llama_index.core.workflow import (\n",
    "    Workflow,\n",
    "    Context,\n",
    "    StartEvent,\n",
    "    StopEvent,\n",
    "    step,\n",
    ")\n",
    "from llama_index.core.llms import LLM\n",
    "\n",
    "\n",
    "class SelfDiscoverWorkflow(Workflow):\n",
    "    \"\"\"Self discover workflow.\"\"\"\n",
    "\n",
    "    @step\n",
    "    async def get_modules(\n",
    "        self, ctx: Context, ev: StartEvent\n",
    "    ) -> GetModulesEvent:\n",
    "        \"\"\"Get modules step.\"\"\"\n",
    "        # get input data, store llm into ctx\n",
    "        task = ev.get(\"task\")\n",
    "        llm: LLM = ev.get(\"llm\")\n",
    "\n",
    "        if task is None or llm is None:\n",
    "            raise ValueError(\"'task' and 'llm' arguments are required.\")\n",
    "\n",
    "        await ctx.set(\"llm\", llm)\n",
    "\n",
    "        # format prompt and get result from LLM\n",
    "        prompt = SELECT_PRMOPT_TEMPLATE.format(\n",
    "            task=task, reasoning_modules=_REASONING_MODULES\n",
    "        )\n",
    "        result = llm.complete(prompt)\n",
    "\n",
    "        return GetModulesEvent(task=task, modules=str(result))\n",
    "\n",
    "    @step\n",
    "    async def refine_modules(\n",
    "        self, ctx: Context, ev: GetModulesEvent\n",
    "    ) -> RefineModulesEvent:\n",
    "        \"\"\"Refine modules step.\"\"\"\n",
    "        task = ev.task\n",
    "        modules = ev.modules\n",
    "        llm: LLM = await ctx.get(\"llm\")\n",
    "\n",
    "        # format prompt and get result\n",
    "        prompt = ADAPT_PROMPT_TEMPLATE.format(\n",
    "            task=task, selected_modules=modules\n",
    "        )\n",
    "        result = llm.complete(prompt)\n",
    "\n",
    "        return RefineModulesEvent(task=task, refined_modules=str(result))\n",
    "\n",
    "    @step\n",
    "    async def create_reasoning_structure(\n",
    "        self, ctx: Context, ev: RefineModulesEvent\n",
    "    ) -> ReasoningStructureEvent:\n",
    "        \"\"\"Create reasoning structures step.\"\"\"\n",
    "        task = ev.task\n",
    "        refined_modules = ev.refined_modules\n",
    "        llm: LLM = await ctx.get(\"llm\")\n",
    "\n",
    "        # format prompt, get result\n",
    "        prompt = IMPLEMENT_PROMPT_TEMPLATE.format(\n",
    "            task=task, adapted_modules=refined_modules\n",
    "        )\n",
    "        result = llm.complete(prompt)\n",
    "\n",
    "        return ReasoningStructureEvent(\n",
    "            task=task, reasoning_structure=str(result)\n",
    "        )\n",
    "\n",
    "    @step\n",
    "    async def get_final_result(\n",
    "        self, ctx: Context, ev: ReasoningStructureEvent\n",
    "    ) -> StopEvent:\n",
    "        \"\"\"Gets final result from reasoning structure event.\"\"\"\n",
    "        task = ev.task\n",
    "        reasoning_structure = ev.reasoning_structure\n",
    "        llm: LLM = await ctx.get(\"llm\")\n",
    "\n",
    "        # format prompt, get res\n",
    "        prompt = REASONING_PROMPT_TEMPLATE.format(\n",
    "            task=task, reasoning_structure=reasoning_structure\n",
    "        )\n",
    "        result = llm.complete(prompt)\n",
    "\n",
    "        return StopEvent(result=result)"
   ]
  },
  {
   "cell_type": "code",
   "execution_count": 6,
   "metadata": {},
   "outputs": [],
   "source": [
    "from llama_index.llms.openai import OpenAI\n",
    "from IPython.display import display, Markdown\n"
   ]
  },
  {
   "cell_type": "markdown",
   "metadata": {},
   "source": [
    "### Run the workflow with RagaAI Catalyst"
   ]
  },
  {
   "cell_type": "code",
   "execution_count": 7,
   "metadata": {},
   "outputs": [
    {
     "name": "stderr",
     "output_type": "stream",
     "text": [
      "INFO:httpx:HTTP Request: POST https://api.openai.com/v1/chat/completions \"HTTP/1.1 200 OK\"\n",
      "INFO:httpx:HTTP Request: POST https://api.openai.com/v1/chat/completions \"HTTP/1.1 200 OK\"\n",
      "INFO:httpx:HTTP Request: POST https://api.openai.com/v1/chat/completions \"HTTP/1.1 200 OK\"\n",
      "INFO:httpx:HTTP Request: POST https://api.openai.com/v1/chat/completions \"HTTP/1.1 200 OK\"\n"
     ]
    },
    {
     "data": {
      "text/markdown": [
       "To solve the problem, let's follow the structured approach outlined:\n",
       "\n",
       "1. **Initial Count:**\n",
       "   - Oranges: 15\n",
       "   - Apples: 0\n",
       "\n",
       "2. **After Giving Oranges to Brother:**\n",
       "   - Oranges: 15 - 4 = 11\n",
       "\n",
       "3. **After Trading with Neighbor:**\n",
       "   - Oranges: 11 - 3 = 8\n",
       "   - Apples: 0 + 6 = 6\n",
       "\n",
       "4. **After Discarding Spoiled Oranges:**\n",
       "   - Oranges: 8 - 2 = 6\n",
       "\n",
       "5. **After Market Purchase:**\n",
       "   - Oranges: 6 + 12 = 18\n",
       "   - Apples: 6 + 5 = 11\n",
       "\n",
       "6. **After Giving Apples to Friend:**\n",
       "   - Apples: 11 - 2 = 9\n",
       "\n",
       "**Final Count:**\n",
       "- Oranges: 18\n",
       "- Apples: 9\n",
       "\n",
       "Therefore, Michael has 18 oranges and 9 apples now."
      ],
      "text/plain": [
       "<IPython.core.display.Markdown object>"
      ]
     },
     "metadata": {},
     "output_type": "display_data"
    },
    {
     "name": "stdout",
     "output_type": "stream",
     "text": [
      "Traces uploaded\n"
     ]
    }
   ],
   "source": [
    "with tracer:\n",
    "    workflow = SelfDiscoverWorkflow()\n",
    "    llm = OpenAI(\"gpt-4o\")\n",
    "    task = \"Michael has 15 oranges. He gives 4 oranges to his brother and trades 3 oranges for 6 apples with his neighbor. Later in the day, he realizes some of his oranges are spoiled, so he discards 2 of them. Then, Michael goes to the market and buys 12 more oranges and 5 more apples. If Michael decides to give 2 apples to his friend, how many oranges and apples does Michael have now?\"\n",
    "    result = await workflow.run(task=task, llm=llm)\n",
    "    display(Markdown(str(result)))"
   ]
  }
 ],
 "metadata": {
  "kernelspec": {
   "display_name": "exam",
   "language": "python",
   "name": "python3"
  },
  "language_info": {
   "codemirror_mode": {
    "name": "ipython",
    "version": 3
   },
   "file_extension": ".py",
   "mimetype": "text/x-python",
   "name": "python",
   "nbconvert_exporter": "python",
   "pygments_lexer": "ipython3",
   "version": "3.11.11"
  }
 },
 "nbformat": 4,
 "nbformat_minor": 2
}
